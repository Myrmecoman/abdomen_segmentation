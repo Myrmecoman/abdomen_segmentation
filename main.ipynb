{
 "cells": [
  {
   "cell_type": "code",
   "execution_count": 1,
   "metadata": {},
   "outputs": [],
   "source": [
    "from cProfile import label\n",
    "from PIL import Image\n",
    "import os\n",
    "import matplotlib.pyplot as plt\n",
    "import matplotlib.image as pmimg\n",
    "import numpy as np\n",
    "import nibabel as nib\n",
    "import skimage.io as io\n",
    "import skimage.transform as trans\n",
    "from tensorflow.keras.models import *\n",
    "from tensorflow.keras.layers import *\n",
    "from tensorflow.keras.optimizers import *\n",
    "from tensorflow.keras.callbacks import ModelCheckpoint, LearningRateScheduler\n",
    "from tensorflow.keras import backend as keras\n",
    "import tensorflow as tf\n",
    "\n",
    "\n",
    "os.chdir(\"data/\")"
   ]
  },
  {
   "cell_type": "code",
   "execution_count": null,
   "metadata": {},
   "outputs": [],
   "source": [
    "# Fonctions utiles\n",
    "\n",
    "# affichage d'image\n",
    "def fast_display(*img2dlst):\n",
    "    plt.figure(figsize=(16, 8))\n",
    "    nbImg = len(img2dlst)\n",
    "    cols = min(9, nbImg)\n",
    "    rows = (nbImg // cols) + 1\n",
    "    for jaaj, img2d in enumerate(img2dlst):\n",
    "        plt.subplot(rows, cols, jaaj + 1)\n",
    "        plt.imshow(img2d)\n",
    "    plt.show()\n",
    "\n",
    "# affichage slice\n",
    "def print_slices(img):\n",
    "    sx, sy, sz, _ = img.shape\n",
    "    fast_display(img[sx//2, :, :, 0], img[sy//2, :, :, 0], img[sz//2, :, :, 0])\n",
    "\n",
    "# calcul des différences entre 2 images (dice)\n",
    "def compute_dice(X, Y):\n",
    "    Xbin = (X > 0)\n",
    "    Ybin = (Y > 0)\n",
    "    cardIntersec = np.sum(np.logical_and(Xbin, Ybin))\n",
    "    cardX = np.sum(Xbin)\n",
    "    cardY = np.sum(Ybin)\n",
    "    print(\"cardIntersec = \", cardIntersec)\n",
    "    print(\"cardX = \", cardX)\n",
    "    print(\"cardY = \", cardY)\n",
    "    if cardX + cardY > 0:\n",
    "        dice = (2.0 * cardIntersec)/(cardX + cardY)\n",
    "        print(\"dice = \", dice)\n",
    "        return dice\n",
    "    else:\n",
    "        return 0\n",
    "\n",
    "# normalisation des valeurs dans une image\n",
    "def normalisation(img):\n",
    "    nu = np.mean(img[img > 0])\n",
    "    sigma = np.std(img[img > 0])\n",
    "    return ((img - nu)/sigma)"
   ]
  },
  {
   "cell_type": "code",
   "execution_count": null,
   "metadata": {},
   "outputs": [],
   "source": [
    "# On a 83 abdomens labelisés au total, on doit les séparer en train, validation, test\n",
    "\n",
    "nombre_total_de_patients = 0\n",
    "for dirname, _, filenames in os.walk(\"./\"):\n",
    "    for filename in filenames:\n",
    "        if filename[0] == '.':\n",
    "            continue\n",
    "        \n",
    "        print(filename)"
   ]
  }
 ],
 "metadata": {
  "kernelspec": {
   "display_name": "Python 3",
   "language": "python",
   "name": "python3"
  },
  "language_info": {
   "codemirror_mode": {
    "name": "ipython",
    "version": 3
   },
   "file_extension": ".py",
   "mimetype": "text/x-python",
   "name": "python",
   "nbconvert_exporter": "python",
   "pygments_lexer": "ipython3",
   "version": "3.6.9"
  },
  "vscode": {
   "interpreter": {
    "hash": "36cf16204b8548560b1c020c4e8fb5b57f0e4c58016f52f2d4be01e192833930"
   }
  }
 },
 "nbformat": 4,
 "nbformat_minor": 2
}
